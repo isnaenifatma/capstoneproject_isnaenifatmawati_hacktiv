{
  "nbformat": 4,
  "nbformat_minor": 0,
  "metadata": {
    "colab": {
      "provenance": []
    },
    "kernelspec": {
      "name": "python3",
      "display_name": "Python 3"
    },
    "language_info": {
      "name": "python"
    }
  },
  "cells": [
    {
      "cell_type": "code",
      "source": [
        "!pip install replicate\n",
        "!pip install seaborn matplotlib pandas"
      ],
      "metadata": {
        "colab": {
          "base_uri": "https://localhost:8080/"
        },
        "id": "BjsUAx6fEWmq",
        "outputId": "30d73abe-4d7b-4243-e101-b5fbee63dd17"
      },
      "execution_count": 35,
      "outputs": [
        {
          "output_type": "stream",
          "name": "stdout",
          "text": [
            "Requirement already satisfied: replicate in /usr/local/lib/python3.12/dist-packages (1.0.7)\n",
            "Requirement already satisfied: httpx<1,>=0.21.0 in /usr/local/lib/python3.12/dist-packages (from replicate) (0.28.1)\n",
            "Requirement already satisfied: packaging in /usr/local/lib/python3.12/dist-packages (from replicate) (25.0)\n",
            "Requirement already satisfied: pydantic>1.10.7 in /usr/local/lib/python3.12/dist-packages (from replicate) (2.11.9)\n",
            "Requirement already satisfied: typing_extensions>=4.5.0 in /usr/local/lib/python3.12/dist-packages (from replicate) (4.15.0)\n",
            "Requirement already satisfied: anyio in /usr/local/lib/python3.12/dist-packages (from httpx<1,>=0.21.0->replicate) (4.10.0)\n",
            "Requirement already satisfied: certifi in /usr/local/lib/python3.12/dist-packages (from httpx<1,>=0.21.0->replicate) (2025.8.3)\n",
            "Requirement already satisfied: httpcore==1.* in /usr/local/lib/python3.12/dist-packages (from httpx<1,>=0.21.0->replicate) (1.0.9)\n",
            "Requirement already satisfied: idna in /usr/local/lib/python3.12/dist-packages (from httpx<1,>=0.21.0->replicate) (3.10)\n",
            "Requirement already satisfied: h11>=0.16 in /usr/local/lib/python3.12/dist-packages (from httpcore==1.*->httpx<1,>=0.21.0->replicate) (0.16.0)\n",
            "Requirement already satisfied: annotated-types>=0.6.0 in /usr/local/lib/python3.12/dist-packages (from pydantic>1.10.7->replicate) (0.7.0)\n",
            "Requirement already satisfied: pydantic-core==2.33.2 in /usr/local/lib/python3.12/dist-packages (from pydantic>1.10.7->replicate) (2.33.2)\n",
            "Requirement already satisfied: typing-inspection>=0.4.0 in /usr/local/lib/python3.12/dist-packages (from pydantic>1.10.7->replicate) (0.4.1)\n",
            "Requirement already satisfied: sniffio>=1.1 in /usr/local/lib/python3.12/dist-packages (from anyio->httpx<1,>=0.21.0->replicate) (1.3.1)\n",
            "Requirement already satisfied: seaborn in /usr/local/lib/python3.12/dist-packages (0.13.2)\n",
            "Requirement already satisfied: matplotlib in /usr/local/lib/python3.12/dist-packages (3.10.0)\n",
            "Requirement already satisfied: pandas in /usr/local/lib/python3.12/dist-packages (2.1.4)\n",
            "Requirement already satisfied: numpy!=1.24.0,>=1.20 in /usr/local/lib/python3.12/dist-packages (from seaborn) (1.26.4)\n",
            "Requirement already satisfied: contourpy>=1.0.1 in /usr/local/lib/python3.12/dist-packages (from matplotlib) (1.3.3)\n",
            "Requirement already satisfied: cycler>=0.10 in /usr/local/lib/python3.12/dist-packages (from matplotlib) (0.12.1)\n",
            "Requirement already satisfied: fonttools>=4.22.0 in /usr/local/lib/python3.12/dist-packages (from matplotlib) (4.60.0)\n",
            "Requirement already satisfied: kiwisolver>=1.3.1 in /usr/local/lib/python3.12/dist-packages (from matplotlib) (1.4.9)\n",
            "Requirement already satisfied: packaging>=20.0 in /usr/local/lib/python3.12/dist-packages (from matplotlib) (25.0)\n",
            "Requirement already satisfied: pillow>=8 in /usr/local/lib/python3.12/dist-packages (from matplotlib) (11.3.0)\n",
            "Requirement already satisfied: pyparsing>=2.3.1 in /usr/local/lib/python3.12/dist-packages (from matplotlib) (3.2.4)\n",
            "Requirement already satisfied: python-dateutil>=2.7 in /usr/local/lib/python3.12/dist-packages (from matplotlib) (2.9.0.post0)\n",
            "Requirement already satisfied: pytz>=2020.1 in /usr/local/lib/python3.12/dist-packages (from pandas) (2025.2)\n",
            "Requirement already satisfied: tzdata>=2022.1 in /usr/local/lib/python3.12/dist-packages (from pandas) (2025.2)\n",
            "Requirement already satisfied: six>=1.5 in /usr/local/lib/python3.12/dist-packages (from python-dateutil>=2.7->matplotlib) (1.17.0)\n"
          ]
        }
      ]
    },
    {
      "cell_type": "code",
      "execution_count": 36,
      "metadata": {
        "id": "p-7ltRhD5eTH"
      },
      "outputs": [],
      "source": [
        "import pandas as pd\n",
        "import numpy as np\n",
        "import matplotlib.pyplot as plt\n",
        "import seaborn as sns\n",
        "\n",
        "from sklearn.model_selection import train_test_split\n",
        "from sklearn.preprocessing import LabelEncoder, StandardScaler\n",
        "from sklearn.metrics import accuracy_score, classification_report, confusion_matrix\n",
        "\n",
        "from sklearn.linear_model import LogisticRegression\n",
        "from sklearn.ensemble import RandomForestClassifier\n",
        "from sklearn.svm import SVC\n",
        "from sklearn.neighbors import KNeighborsClassifier\n",
        "from sklearn.naive_bayes import GaussianNB\n",
        "\n",
        "from imblearn.over_sampling import SMOTE"
      ]
    },
    {
      "cell_type": "code",
      "source": [
        "from google.colab import files\n",
        "uploaded = files.upload()\n",
        "\n",
        "df = pd.read_csv(\"Sleep_health_and_lifestyle_dataset.csv\", sep=\";\")"
      ],
      "metadata": {
        "colab": {
          "base_uri": "https://localhost:8080/",
          "height": 73
        },
        "id": "5AXm_E_4DjPl",
        "outputId": "4dd1d8aa-5e54-411a-e9c9-b7e45df60d18"
      },
      "execution_count": 37,
      "outputs": [
        {
          "output_type": "display_data",
          "data": {
            "text/plain": [
              "<IPython.core.display.HTML object>"
            ],
            "text/html": [
              "\n",
              "     <input type=\"file\" id=\"files-f13301d5-84a4-4fe5-aefc-80c3d7362781\" name=\"files[]\" multiple disabled\n",
              "        style=\"border:none\" />\n",
              "     <output id=\"result-f13301d5-84a4-4fe5-aefc-80c3d7362781\">\n",
              "      Upload widget is only available when the cell has been executed in the\n",
              "      current browser session. Please rerun this cell to enable.\n",
              "      </output>\n",
              "      <script>// Copyright 2017 Google LLC\n",
              "//\n",
              "// Licensed under the Apache License, Version 2.0 (the \"License\");\n",
              "// you may not use this file except in compliance with the License.\n",
              "// You may obtain a copy of the License at\n",
              "//\n",
              "//      http://www.apache.org/licenses/LICENSE-2.0\n",
              "//\n",
              "// Unless required by applicable law or agreed to in writing, software\n",
              "// distributed under the License is distributed on an \"AS IS\" BASIS,\n",
              "// WITHOUT WARRANTIES OR CONDITIONS OF ANY KIND, either express or implied.\n",
              "// See the License for the specific language governing permissions and\n",
              "// limitations under the License.\n",
              "\n",
              "/**\n",
              " * @fileoverview Helpers for google.colab Python module.\n",
              " */\n",
              "(function(scope) {\n",
              "function span(text, styleAttributes = {}) {\n",
              "  const element = document.createElement('span');\n",
              "  element.textContent = text;\n",
              "  for (const key of Object.keys(styleAttributes)) {\n",
              "    element.style[key] = styleAttributes[key];\n",
              "  }\n",
              "  return element;\n",
              "}\n",
              "\n",
              "// Max number of bytes which will be uploaded at a time.\n",
              "const MAX_PAYLOAD_SIZE = 100 * 1024;\n",
              "\n",
              "function _uploadFiles(inputId, outputId) {\n",
              "  const steps = uploadFilesStep(inputId, outputId);\n",
              "  const outputElement = document.getElementById(outputId);\n",
              "  // Cache steps on the outputElement to make it available for the next call\n",
              "  // to uploadFilesContinue from Python.\n",
              "  outputElement.steps = steps;\n",
              "\n",
              "  return _uploadFilesContinue(outputId);\n",
              "}\n",
              "\n",
              "// This is roughly an async generator (not supported in the browser yet),\n",
              "// where there are multiple asynchronous steps and the Python side is going\n",
              "// to poll for completion of each step.\n",
              "// This uses a Promise to block the python side on completion of each step,\n",
              "// then passes the result of the previous step as the input to the next step.\n",
              "function _uploadFilesContinue(outputId) {\n",
              "  const outputElement = document.getElementById(outputId);\n",
              "  const steps = outputElement.steps;\n",
              "\n",
              "  const next = steps.next(outputElement.lastPromiseValue);\n",
              "  return Promise.resolve(next.value.promise).then((value) => {\n",
              "    // Cache the last promise value to make it available to the next\n",
              "    // step of the generator.\n",
              "    outputElement.lastPromiseValue = value;\n",
              "    return next.value.response;\n",
              "  });\n",
              "}\n",
              "\n",
              "/**\n",
              " * Generator function which is called between each async step of the upload\n",
              " * process.\n",
              " * @param {string} inputId Element ID of the input file picker element.\n",
              " * @param {string} outputId Element ID of the output display.\n",
              " * @return {!Iterable<!Object>} Iterable of next steps.\n",
              " */\n",
              "function* uploadFilesStep(inputId, outputId) {\n",
              "  const inputElement = document.getElementById(inputId);\n",
              "  inputElement.disabled = false;\n",
              "\n",
              "  const outputElement = document.getElementById(outputId);\n",
              "  outputElement.innerHTML = '';\n",
              "\n",
              "  const pickedPromise = new Promise((resolve) => {\n",
              "    inputElement.addEventListener('change', (e) => {\n",
              "      resolve(e.target.files);\n",
              "    });\n",
              "  });\n",
              "\n",
              "  const cancel = document.createElement('button');\n",
              "  inputElement.parentElement.appendChild(cancel);\n",
              "  cancel.textContent = 'Cancel upload';\n",
              "  const cancelPromise = new Promise((resolve) => {\n",
              "    cancel.onclick = () => {\n",
              "      resolve(null);\n",
              "    };\n",
              "  });\n",
              "\n",
              "  // Wait for the user to pick the files.\n",
              "  const files = yield {\n",
              "    promise: Promise.race([pickedPromise, cancelPromise]),\n",
              "    response: {\n",
              "      action: 'starting',\n",
              "    }\n",
              "  };\n",
              "\n",
              "  cancel.remove();\n",
              "\n",
              "  // Disable the input element since further picks are not allowed.\n",
              "  inputElement.disabled = true;\n",
              "\n",
              "  if (!files) {\n",
              "    return {\n",
              "      response: {\n",
              "        action: 'complete',\n",
              "      }\n",
              "    };\n",
              "  }\n",
              "\n",
              "  for (const file of files) {\n",
              "    const li = document.createElement('li');\n",
              "    li.append(span(file.name, {fontWeight: 'bold'}));\n",
              "    li.append(span(\n",
              "        `(${file.type || 'n/a'}) - ${file.size} bytes, ` +\n",
              "        `last modified: ${\n",
              "            file.lastModifiedDate ? file.lastModifiedDate.toLocaleDateString() :\n",
              "                                    'n/a'} - `));\n",
              "    const percent = span('0% done');\n",
              "    li.appendChild(percent);\n",
              "\n",
              "    outputElement.appendChild(li);\n",
              "\n",
              "    const fileDataPromise = new Promise((resolve) => {\n",
              "      const reader = new FileReader();\n",
              "      reader.onload = (e) => {\n",
              "        resolve(e.target.result);\n",
              "      };\n",
              "      reader.readAsArrayBuffer(file);\n",
              "    });\n",
              "    // Wait for the data to be ready.\n",
              "    let fileData = yield {\n",
              "      promise: fileDataPromise,\n",
              "      response: {\n",
              "        action: 'continue',\n",
              "      }\n",
              "    };\n",
              "\n",
              "    // Use a chunked sending to avoid message size limits. See b/62115660.\n",
              "    let position = 0;\n",
              "    do {\n",
              "      const length = Math.min(fileData.byteLength - position, MAX_PAYLOAD_SIZE);\n",
              "      const chunk = new Uint8Array(fileData, position, length);\n",
              "      position += length;\n",
              "\n",
              "      const base64 = btoa(String.fromCharCode.apply(null, chunk));\n",
              "      yield {\n",
              "        response: {\n",
              "          action: 'append',\n",
              "          file: file.name,\n",
              "          data: base64,\n",
              "        },\n",
              "      };\n",
              "\n",
              "      let percentDone = fileData.byteLength === 0 ?\n",
              "          100 :\n",
              "          Math.round((position / fileData.byteLength) * 100);\n",
              "      percent.textContent = `${percentDone}% done`;\n",
              "\n",
              "    } while (position < fileData.byteLength);\n",
              "  }\n",
              "\n",
              "  // All done.\n",
              "  yield {\n",
              "    response: {\n",
              "      action: 'complete',\n",
              "    }\n",
              "  };\n",
              "}\n",
              "\n",
              "scope.google = scope.google || {};\n",
              "scope.google.colab = scope.google.colab || {};\n",
              "scope.google.colab._files = {\n",
              "  _uploadFiles,\n",
              "  _uploadFilesContinue,\n",
              "};\n",
              "})(self);\n",
              "</script> "
            ]
          },
          "metadata": {}
        },
        {
          "output_type": "stream",
          "name": "stdout",
          "text": [
            "Saving Sleep_health_and_lifestyle_dataset.csv to Sleep_health_and_lifestyle_dataset.csv\n"
          ]
        }
      ]
    },
    {
      "cell_type": "code",
      "source": [
        "df.columns = df.columns.str.strip().str.replace(\" \", \"_\")\n",
        "print(\"Kolom dataset:\", df.columns.tolist())\n",
        "print(df.head())"
      ],
      "metadata": {
        "colab": {
          "base_uri": "https://localhost:8080/"
        },
        "id": "D1N1K9IGBctT",
        "outputId": "b9f55dc7-9e92-4bad-83a4-0384afa3bae8"
      },
      "execution_count": 38,
      "outputs": [
        {
          "output_type": "stream",
          "name": "stdout",
          "text": [
            "Kolom dataset: ['Person_ID', 'Gender', 'Age', 'Occupation', 'Sleep_Duration', 'Quality_of_Sleep', 'Physical_Activity_Level', 'Stress_Level', 'BMI_Category', 'Blood_Pressure', 'Heart_Rate', 'Daily_Steps', 'Sleep_Disorder']\n",
            "   Person_ID  Gender  Age Occupation  Sleep_Duration  Quality_of_Sleep  \\\n",
            "0        374  Female   59      Nurse             8.1                 9   \n",
            "1        375    Male   29     Doctor             7.8                 7   \n",
            "2        376    Male   29     Doctor             7.8                 7   \n",
            "3        377    Male   29     Doctor             6.1                 6   \n",
            "4        378    Male   29     Doctor             7.8                 7   \n",
            "\n",
            "   Physical_Activity_Level  Stress_Level BMI_Category Blood_Pressure  \\\n",
            "0                       75             3   Overweight         140/95   \n",
            "1                       75             6       Normal         120/80   \n",
            "2                       75             6       Normal         120/80   \n",
            "3                       30             8       Normal         120/80   \n",
            "4                       75             6       Normal         120/80   \n",
            "\n",
            "   Heart_Rate  Daily_Steps Sleep_Disorder  \n",
            "0          68         7000    Sleep Apnea  \n",
            "1          70         8000            NaN  \n",
            "2          70         8000            NaN  \n",
            "3          70         8000            NaN  \n",
            "4          70         8000            NaN  \n"
          ]
        }
      ]
    },
    {
      "cell_type": "markdown",
      "source": [
        "#EDA (Exploratory Data Analysis)"
      ],
      "metadata": {
        "id": "ZqaklHXvAoY1"
      }
    },
    {
      "cell_type": "code",
      "source": [
        "print(\"Kolom dataset:\", df.columns.tolist())\n",
        "print(\"\\n5 data teratas:\")\n",
        "print(df.head())\n",
        "\n",
        "print(\"\\nInfo Dataset:\")\n",
        "print(df.info())\n",
        "\n",
        "print(\"\\nCek Missing Values:\")\n",
        "print(df.isnull().sum())\n",
        "\n",
        "print(\"\\nJumlah nilai unik Sleep_Disorder:\")\n",
        "print(df[\"Sleep_Disorder\"].value_counts(dropna=False))"
      ],
      "metadata": {
        "colab": {
          "base_uri": "https://localhost:8080/"
        },
        "id": "kJljBdESAAQz",
        "outputId": "9216d6fa-0320-4121-b92d-78710cd9fad9"
      },
      "execution_count": 39,
      "outputs": [
        {
          "output_type": "stream",
          "name": "stdout",
          "text": [
            "Kolom dataset: ['Person_ID', 'Gender', 'Age', 'Occupation', 'Sleep_Duration', 'Quality_of_Sleep', 'Physical_Activity_Level', 'Stress_Level', 'BMI_Category', 'Blood_Pressure', 'Heart_Rate', 'Daily_Steps', 'Sleep_Disorder']\n",
            "\n",
            "5 data teratas:\n",
            "   Person_ID  Gender  Age Occupation  Sleep_Duration  Quality_of_Sleep  \\\n",
            "0        374  Female   59      Nurse             8.1                 9   \n",
            "1        375    Male   29     Doctor             7.8                 7   \n",
            "2        376    Male   29     Doctor             7.8                 7   \n",
            "3        377    Male   29     Doctor             6.1                 6   \n",
            "4        378    Male   29     Doctor             7.8                 7   \n",
            "\n",
            "   Physical_Activity_Level  Stress_Level BMI_Category Blood_Pressure  \\\n",
            "0                       75             3   Overweight         140/95   \n",
            "1                       75             6       Normal         120/80   \n",
            "2                       75             6       Normal         120/80   \n",
            "3                       30             8       Normal         120/80   \n",
            "4                       75             6       Normal         120/80   \n",
            "\n",
            "   Heart_Rate  Daily_Steps Sleep_Disorder  \n",
            "0          68         7000    Sleep Apnea  \n",
            "1          70         8000            NaN  \n",
            "2          70         8000            NaN  \n",
            "3          70         8000            NaN  \n",
            "4          70         8000            NaN  \n",
            "\n",
            "Info Dataset:\n",
            "<class 'pandas.core.frame.DataFrame'>\n",
            "RangeIndex: 186 entries, 0 to 185\n",
            "Data columns (total 13 columns):\n",
            " #   Column                   Non-Null Count  Dtype  \n",
            "---  ------                   --------------  -----  \n",
            " 0   Person_ID                186 non-null    int64  \n",
            " 1   Gender                   186 non-null    object \n",
            " 2   Age                      186 non-null    int64  \n",
            " 3   Occupation               186 non-null    object \n",
            " 4   Sleep_Duration           186 non-null    float64\n",
            " 5   Quality_of_Sleep         186 non-null    int64  \n",
            " 6   Physical_Activity_Level  186 non-null    int64  \n",
            " 7   Stress_Level             186 non-null    int64  \n",
            " 8   BMI_Category             186 non-null    object \n",
            " 9   Blood_Pressure           186 non-null    object \n",
            " 10  Heart_Rate               186 non-null    int64  \n",
            " 11  Daily_Steps              186 non-null    int64  \n",
            " 12  Sleep_Disorder           30 non-null     object \n",
            "dtypes: float64(1), int64(7), object(5)\n",
            "memory usage: 19.0+ KB\n",
            "None\n",
            "\n",
            "Cek Missing Values:\n",
            "Person_ID                    0\n",
            "Gender                       0\n",
            "Age                          0\n",
            "Occupation                   0\n",
            "Sleep_Duration               0\n",
            "Quality_of_Sleep             0\n",
            "Physical_Activity_Level      0\n",
            "Stress_Level                 0\n",
            "BMI_Category                 0\n",
            "Blood_Pressure               0\n",
            "Heart_Rate                   0\n",
            "Daily_Steps                  0\n",
            "Sleep_Disorder             156\n",
            "dtype: int64\n",
            "\n",
            "Jumlah nilai unik Sleep_Disorder:\n",
            "Sleep_Disorder\n",
            "NaN            156\n",
            "Insomnia        16\n",
            "Sleep Apnea     14\n",
            "Name: count, dtype: int64\n"
          ]
        }
      ]
    },
    {
      "cell_type": "markdown",
      "source": [
        "# Preprocessing"
      ],
      "metadata": {
        "id": "6hL5joIrIhfz"
      }
    },
    {
      "cell_type": "code",
      "source": [
        "from sklearn.preprocessing import LabelEncoder\n",
        "\n",
        "# Buat df_clean (drop Unknown pada Sleep_Disorder)\n",
        "df_clean = df[df[\"Sleep_Disorder\"] != \"Unknown\"].copy()\n",
        "\n",
        "# Copy dataframe biar aman\n",
        "df_encoded = df_clean.copy()\n",
        "\n",
        "# Deteksi kolom kategorikal (tipe object)\n",
        "categorical_cols = df_encoded.select_dtypes(include=[\"object\"]).columns\n",
        "\n",
        "# Encode semua kolom kategorikal\n",
        "le = LabelEncoder()\n",
        "for col in categorical_cols:\n",
        "    df_encoded[col] = le.fit_transform(df_encoded[col].astype(str))\n",
        "\n",
        "print(\"Kolom setelah encoding:\", df_encoded.columns.tolist())\n"
      ],
      "metadata": {
        "colab": {
          "base_uri": "https://localhost:8080/"
        },
        "id": "KCsv_Z1m-9cY",
        "outputId": "79ee5502-4f87-4f8b-9625-c5a9b9072617"
      },
      "execution_count": 40,
      "outputs": [
        {
          "output_type": "stream",
          "name": "stdout",
          "text": [
            "Kolom setelah encoding: ['Person_ID', 'Gender', 'Age', 'Occupation', 'Sleep_Duration', 'Quality_of_Sleep', 'Physical_Activity_Level', 'Stress_Level', 'BMI_Category', 'Blood_Pressure', 'Heart_Rate', 'Daily_Steps', 'Sleep_Disorder']\n"
          ]
        }
      ]
    },
    {
      "cell_type": "code",
      "source": [
        "X = df_encoded.drop(\"Sleep_Disorder\", axis=1)\n",
        "y = df_encoded[\"Sleep_Disorder\"]"
      ],
      "metadata": {
        "id": "bA-y7aOSHOg-"
      },
      "execution_count": 41,
      "outputs": []
    },
    {
      "cell_type": "code",
      "source": [
        "scaler = StandardScaler()\n",
        "X_scaled = scaler.fit_transform(X)"
      ],
      "metadata": {
        "id": "se3Rzo55IM8e"
      },
      "execution_count": 42,
      "outputs": []
    },
    {
      "cell_type": "code",
      "source": [
        "import pandas as pd\n",
        "import seaborn as sns\n",
        "import matplotlib.pyplot as plt\n",
        "\n",
        "# ---- Visualisasi 1: Distribusi Sleep Disorder ----\n",
        "plt.figure(figsize=(6,4))\n",
        "sns.countplot(data=df, x='Sleep_Disorder', hue='Sleep_Disorder', palette='Set2', legend=False)\n",
        "plt.title(\"Distribusi Sleep Disorder\")\n",
        "plt.show()\n",
        "\n",
        "# ---- Visualisasi 2: Sleep Duration per Sleep Disorder ----\n",
        "plt.figure(figsize=(6,4))\n",
        "sns.boxplot(data=df, x='Sleep_Disorder', y='Sleep_Duration', hue='Sleep_Disorder', palette='Set3', legend=False)\n",
        "plt.title(\"Sleep Duration vs Sleep Disorder\")\n",
        "plt.show()\n",
        "\n",
        "# ---- Visualisasi 3: Daily Steps per Sleep Disorder ----\n",
        "plt.figure(figsize=(6,4))\n",
        "sns.boxplot(data=df, x='Sleep_Disorder', y='Daily_Steps', hue='Sleep_Disorder', palette='Set1', legend=False)\n",
        "plt.title(\"Daily Steps vs Sleep Disorder\")\n",
        "plt.show()\n",
        "\n",
        "# ---- Visualisasi 4: Blood Pressure vs Sleep Disorder ----\n",
        "plt.figure(figsize=(6,4))\n",
        "sns.boxplot(data=df, x='Sleep_Disorder', y='Systolic', hue='Sleep_Disorder', palette='coolwarm', legend=False)\n",
        "plt.title(\"Systolic BP vs Sleep Disorder\")\n",
        "plt.show()\n",
        "\n",
        "plt.figure(figsize=(6,4))\n",
        "sns.boxplot(data=df, x='Sleep_Disorder', y='Diastolic', hue='Sleep_Disorder', palette='coolwarm', legend=False)\n",
        "plt.title(\"Diastolic BP vs Sleep Disorder\")\n",
        "plt.show()\n"
      ],
      "metadata": {
        "colab": {
          "base_uri": "https://localhost:8080/",
          "height": 1000
        },
        "id": "OGakaHxpiYos",
        "outputId": "bbfd1179-6195-454c-bce7-19a03850de3a"
      },
      "execution_count": 45,
      "outputs": [
        {
          "output_type": "display_data",
          "data": {
            "text/plain": [
              "<Figure size 600x400 with 1 Axes>"
            ],
            "image/png": "[encoded data removed]"
          },
          "metadata": {}
        },
        {
          "output_type": "display_data",
          "data": {
            "text/plain": [
              "<Figure size 600x400 with 1 Axes>"
            ],
            "image/png": "[encoded data removed]"
          },
          "metadata": {}
        },
        {
          "output_type": "display_data",
          "data": {
            "text/plain": [
              "<Figure size 600x400 with 1 Axes>"
            ],
            "image/png": "[encoded data removed]"
          },
          "metadata": {}
        },
        {
          "output_type": "display_data",
          "data": {
            "text/plain": [
              "<Figure size 600x400 with 1 Axes>"
            ],
            "image/png": "[encoded data removed]"
          },
          "metadata": {}
        },
        {
          "output_type": "display_data",
          "data": {
            "text/plain": [
              "<Figure size 600x400 with 1 Axes>"
            ],
            "image/png": "[encoded data removed]"
          },
          "metadata": {}
        }
      ]
    },
    {
      "cell_type": "code",
      "source": [
        "X_train, X_test, y_train, y_test = train_test_split(\n",
        "    X_scaled, y, test_size=0.2, random_state=42, stratify=y\n",
        ")\n",
        "\n",
        "print(\"Ukuran X_train:\", X_train.shape)\n",
        "print(\"Ukuran X_test:\", X_test.shape)"
      ],
      "metadata": {
        "colab": {
          "base_uri": "https://localhost:8080/"
        },
        "id": "FwTZN1FCG4es",
        "outputId": "a0c7d1b5-6780-4804-c361-caa3a6abc7bc"
      },
      "execution_count": 46,
      "outputs": [
        {
          "output_type": "stream",
          "name": "stdout",
          "text": [
            "Ukuran X_train: (148, 12)\n",
            "Ukuran X_test: (38, 12)\n"
          ]
        }
      ]
    },
    {
      "cell_type": "code",
      "source": [
        "from imblearn.over_sampling import SMOTE\n",
        "from sklearn.ensemble import VotingClassifier\n",
        "\n",
        "# ====== 1. SMOTE ======\n",
        "smote = SMOTE(random_state=42)\n",
        "X_res, y_res = smote.fit_resample(X_scaled, y)\n",
        "\n",
        "print(\"Jumlah data sebelum SMOTE:\", y.value_counts().to_dict())\n",
        "print(\"Jumlah data sesudah SMOTE:\", y_res.value_counts().to_dict())\n",
        "\n",
        "# Split setelah oversampling\n",
        "X_train, X_test, y_train, y_test = train_test_split(\n",
        "    X_res, y_res, test_size=0.2, random_state=42, stratify=y_res\n",
        ")\n",
        "\n",
        "# ====== 2. Voting Classifier ======\n",
        "log_reg = LogisticRegression(max_iter=500, random_state=42)\n",
        "nb = GaussianNB()\n",
        "knn = KNeighborsClassifier(n_neighbors=5)\n",
        "\n",
        "voting_clf = VotingClassifier(\n",
        "    estimators=[\n",
        "        ('lr', log_reg),\n",
        "        ('nb', nb),\n",
        "        ('knn', knn)\n",
        "    ],\n",
        "    voting='soft'\n",
        ")\n",
        "\n",
        "voting_clf.fit(X_train, y_train)\n",
        "y_pred_vote = voting_clf.predict(X_test)\n",
        "\n",
        "# ====== Evaluasi ======\n",
        "print(\"\\nVoting Classifier Accuracy:\", accuracy_score(y_test, y_pred_vote))\n",
        "print(classification_report(y_test, y_pred_vote))\n",
        "\n",
        "cm = confusion_matrix(y_test, y_pred_vote)\n",
        "sns.heatmap(cm, annot=True, fmt=\"d\", cmap=\"Blues\")\n",
        "plt.xlabel(\"Predicted\")\n",
        "plt.ylabel(\"Actual\")\n",
        "plt.title(\"Confusion Matrix - Voting Classifier\")\n",
        "plt.show()\n"
      ],
      "metadata": {
        "colab": {
          "base_uri": "https://localhost:8080/",
          "height": 715
        },
        "id": "XVmd6xPwAzT6",
        "outputId": "1473b318-5f69-41eb-be38-e2c1bc7d3e0d"
      },
      "execution_count": 47,
      "outputs": [
        {
          "output_type": "stream",
          "name": "stdout",
          "text": [
            "Jumlah data sebelum SMOTE: {2: 156, 0: 16, 1: 14}\n",
            "Jumlah data sesudah SMOTE: {1: 156, 2: 156, 0: 156}\n",
            "\n",
            "Voting Classifier Accuracy: 0.8297872340425532\n",
            "              precision    recall  f1-score   support\n",
            "\n",
            "           0       0.92      0.71      0.80        31\n",
            "           1       0.84      0.84      0.84        31\n",
            "           2       0.77      0.94      0.85        32\n",
            "\n",
            "    accuracy                           0.83        94\n",
            "   macro avg       0.84      0.83      0.83        94\n",
            "weighted avg       0.84      0.83      0.83        94\n",
            "\n"
          ]
        },
        {
          "output_type": "display_data",
          "data": {
            "text/plain": [
              "<Figure size 640x480 with 2 Axes>"
            ],
            "image/png": "[encoded data removed]"
          },
          "metadata": {}
        }
      ]
    },
    {
      "cell_type": "markdown",
      "source": [
        "# Modeling"
      ],
      "metadata": {
        "id": "Qp2I_BzV_uhG"
      }
    },
    {
      "cell_type": "code",
      "source": [
        "from sklearn.linear_model import LogisticRegression\n",
        "from sklearn.ensemble import RandomForestClassifier\n",
        "from sklearn.naive_bayes import GaussianNB\n",
        "from sklearn.svm import SVC\n",
        "from sklearn.neighbors import KNeighborsClassifier\n",
        "from sklearn.metrics import accuracy_score, classification_report, confusion_matrix\n",
        "\n",
        "models = {\n",
        "    \"Logistic Regression\": LogisticRegression(max_iter=1000),\n",
        "    \"Random Forest\": RandomForestClassifier(random_state=42),\n",
        "    \"Naive Bayes\": GaussianNB(),\n",
        "    \"SVM\": SVC(),\n",
        "    \"KNN\": KNeighborsClassifier()\n",
        "}\n",
        "\n",
        "results = []\n",
        "\n",
        "for name, model in models.items():\n",
        "    model.fit(X_train, y_train)\n",
        "    y_pred = model.predict(X_test)\n",
        "    acc = accuracy_score(y_test, y_pred)\n",
        "    print(f\"\\n{name} Accuracy: {acc:.2f}\")\n",
        "    print(classification_report(y_test, y_pred))\n",
        "    print(\"Confusion Matrix:\\n\", confusion_matrix(y_test, y_pred))\n",
        "    results.append((name, acc))\n",
        "\n",
        "# Bandingkan hasil\n",
        "import pandas as pd\n",
        "df_results = pd.DataFrame(results, columns=[\"Model\", \"Accuracy\"])\n",
        "print(\"\\nPerbandingan Akurasi Model:\")\n",
        "print(df_results)\n"
      ],
      "metadata": {
        "colab": {
          "base_uri": "https://localhost:8080/"
        },
        "id": "ChVpmQLNO6jC",
        "outputId": "ecfc7fd2-26ae-4208-e490-4033a58e6717"
      },
      "execution_count": 48,
      "outputs": [
        {
          "output_type": "stream",
          "name": "stdout",
          "text": [
            "\n",
            "Logistic Regression Accuracy: 0.86\n",
            "              precision    recall  f1-score   support\n",
            "\n",
            "           0       1.00      0.74      0.85        31\n",
            "           1       0.82      0.90      0.86        31\n",
            "           2       0.81      0.94      0.87        32\n",
            "\n",
            "    accuracy                           0.86        94\n",
            "   macro avg       0.88      0.86      0.86        94\n",
            "weighted avg       0.88      0.86      0.86        94\n",
            "\n",
            "Confusion Matrix:\n",
            " [[23  4  4]\n",
            " [ 0 28  3]\n",
            " [ 0  2 30]]\n",
            "\n",
            "Random Forest Accuracy: 0.93\n",
            "              precision    recall  f1-score   support\n",
            "\n",
            "           0       0.93      0.87      0.90        31\n",
            "           1       0.93      0.90      0.92        31\n",
            "           2       0.91      1.00      0.96        32\n",
            "\n",
            "    accuracy                           0.93        94\n",
            "   macro avg       0.93      0.92      0.92        94\n",
            "weighted avg       0.93      0.93      0.92        94\n",
            "\n",
            "Confusion Matrix:\n",
            " [[27  2  2]\n",
            " [ 2 28  1]\n",
            " [ 0  0 32]]\n",
            "\n",
            "Naive Bayes Accuracy: 0.73\n",
            "              precision    recall  f1-score   support\n",
            "\n",
            "           0       0.68      0.68      0.68        31\n",
            "           1       0.75      0.58      0.65        31\n",
            "           2       0.77      0.94      0.85        32\n",
            "\n",
            "    accuracy                           0.73        94\n",
            "   macro avg       0.73      0.73      0.73        94\n",
            "weighted avg       0.73      0.73      0.73        94\n",
            "\n",
            "Confusion Matrix:\n",
            " [[21  6  4]\n",
            " [ 8 18  5]\n",
            " [ 2  0 30]]\n",
            "\n",
            "SVM Accuracy: 0.78\n",
            "              precision    recall  f1-score   support\n",
            "\n",
            "           0       0.94      0.55      0.69        31\n",
            "           1       0.72      0.84      0.78        31\n",
            "           2       0.75      0.94      0.83        32\n",
            "\n",
            "    accuracy                           0.78        94\n",
            "   macro avg       0.81      0.77      0.77        94\n",
            "weighted avg       0.80      0.78      0.77        94\n",
            "\n",
            "Confusion Matrix:\n",
            " [[17  9  5]\n",
            " [ 0 26  5]\n",
            " [ 1  1 30]]\n",
            "\n",
            "KNN Accuracy: 0.83\n",
            "              precision    recall  f1-score   support\n",
            "\n",
            "           0       0.86      0.81      0.83        31\n",
            "           1       0.89      0.77      0.83        31\n",
            "           2       0.76      0.91      0.83        32\n",
            "\n",
            "    accuracy                           0.83        94\n",
            "   macro avg       0.84      0.83      0.83        94\n",
            "weighted avg       0.84      0.83      0.83        94\n",
            "\n",
            "Confusion Matrix:\n",
            " [[25  2  4]\n",
            " [ 2 24  5]\n",
            " [ 2  1 29]]\n",
            "\n",
            "Perbandingan Akurasi Model:\n",
            "                 Model  Accuracy\n",
            "0  Logistic Regression  0.861702\n",
            "1        Random Forest  0.925532\n",
            "2          Naive Bayes  0.734043\n",
            "3                  SVM  0.776596\n",
            "4                  KNN  0.829787\n"
          ]
        }
      ]
    },
    {
      "cell_type": "markdown",
      "source": [
        "# LLaMA"
      ],
      "metadata": {
        "id": "LG88t57yCSbm"
      }
    },
    {
      "cell_type": "code",
      "source": [
        "import os\n",
        "os.environ[\"REPLICATE_API_TOKEN\"] = \"r8_Ho1PvJ9xnWlHl1B8BVH3sIWzchuThq63bcwdn\""
      ],
      "metadata": {
        "id": "8TxOaJ3uCU-z"
      },
      "execution_count": 49,
      "outputs": []
    },
    {
      "cell_type": "code",
      "source": [
        "import replicate\n",
        "\n",
        "# Contoh: pakai LLaMA 2 Chat\n",
        "output = replicate.run(\n",
        "  \"meta/llama-2-13b-chat\",\n",
        "  input={\n",
        "    \"prompt\": \"Classify the sleep disorder based on: Age 45, Sleep Duration 5.5h, Heart Rate 78, Blood Pressure 140/95, BMI Overweight, Occupation Software Engineer.\"\n",
        "  }\n",
        ")\n",
        "\n",
        "print(\"Prediction:\", \"\".join(output))"
      ],
      "metadata": {
        "colab": {
          "base_uri": "https://localhost:8080/"
        },
        "id": "iZGk5YreP8UJ",
        "outputId": "0c91eb71-0bd5-440e-8172-b1d630d4a194"
      },
      "execution_count": 50,
      "outputs": [
        {
          "output_type": "stream",
          "name": "stdout",
          "text": [
            "Prediction:  Thank you for providing the information. Based on the symptoms you have provided, the sleep disorder that the person may be experiencing is likely to be classified as \"Obstructive Sleep Apnea\" (OSA).\n",
            "\n",
            "OSA is a common sleep disorder that occurs when the airway collapses or becomes blocked, causing pauses in breathing. This can lead to symptoms such as snoring, difficulty breathing, and excessive daytime sleepiness.\n",
            "\n",
            "Based on the information provided, the person's age of 45, sleep duration of 5.5 hours, and BMI of overweight may increase the risk of developing OSA. Additionally, the person's heart rate of 78 and blood pressure of 140/95 may also be indicative of OSA.\n",
            "\n",
            "However, it is important to note that a proper diagnosis can only be made by a qualified medical professional, such as a sleep specialist or a primary care physician, after conducting a comprehensive evaluation, including an overnight sleep study.\n",
            "\n",
            "It is important to seek medical attention if you suspect you or someone you know may have a sleep disorder, as untreated sleep disorders can lead to serious health consequences, such as cardiovascular disease, stroke, and depression.\n"
          ]
        }
      ]
    }
  ]
}